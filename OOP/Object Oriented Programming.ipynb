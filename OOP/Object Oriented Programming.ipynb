{
 "cells": [
  {
   "cell_type": "code",
   "execution_count": 31,
   "id": "65de1bd9-bdd5-43de-a223-5eccd3426b21",
   "metadata": {},
   "outputs": [],
   "source": [
    "class Siswa:\n",
    "    # Pembuatan wadah data siswa dan pengisian data siswa\n",
    "    def __init__(self,nama,kelas,jurusan):\n",
    "        self.nama = nama\n",
    "        self.kelas = kelas\n",
    "        self.jurusan = jurusan\n",
    "        self.kelulusan = False\n",
    "    \n",
    "    def printdetailsiswa(self):\n",
    "        print(f\"\"\"\n",
    "Nama: {self.nama}\n",
    "Kelas: {self.kelas}\n",
    "Jurusan: {self.jurusan}\n",
    "        \"\"\")\n",
    "\n",
    "    def statuskelulusan(self):\n",
    "        print(f\" Kelulusan: {\"Lulus\" if self.kelulusan else \"Belum Lulus\"} \")\n",
    "\n"
   ]
  },
  {
   "cell_type": "code",
   "execution_count": 40,
   "id": "25d98549-4f9b-41b5-b6b9-714c4c0bc935",
   "metadata": {},
   "outputs": [],
   "source": [
    "# Pemanggilan kode untuk pembuatan wadah beserta penyerahan data\n",
    "ilham = Siswa(\"Ilham Dida Zakaria\",\"12\",\"TKJ\")"
   ]
  },
  {
   "cell_type": "code",
   "execution_count": 42,
   "id": "09633102-ee5e-404d-a5ef-c3f3c35b46f3",
   "metadata": {},
   "outputs": [
    {
     "name": "stdout",
     "output_type": "stream",
     "text": [
      "Ilham Dida Zakaria\n",
      "12\n",
      "TKJ\n"
     ]
    }
   ],
   "source": [
    "# Print atribut\n",
    "print(ilham.nama)\n",
    "print(ilham.kelas)\n",
    "print(ilham.jurusan)"
   ]
  },
  {
   "cell_type": "code",
   "execution_count": 37,
   "id": "aecb3940-756b-432c-ad69-efdf60881d5e",
   "metadata": {},
   "outputs": [
    {
     "name": "stdout",
     "output_type": "stream",
     "text": [
      "\n",
      "        Nama: Ilham Dida Zakaria\n",
      "        Kelas: 12\n",
      "        Jurusan: TKJ\n",
      "        \n"
     ]
    }
   ],
   "source": [
    "ilham.printdetailsiswa()"
   ]
  },
  {
   "cell_type": "code",
   "execution_count": 39,
   "id": "51b6123f-63a8-4014-86f7-a443b4ccbb07",
   "metadata": {},
   "outputs": [
    {
     "data": {
      "text/plain": [
       "False"
      ]
     },
     "execution_count": 39,
     "metadata": {},
     "output_type": "execute_result"
    }
   ],
   "source": [
    "ilham.kelulusan"
   ]
  },
  {
   "cell_type": "code",
   "execution_count": 43,
   "id": "117e310f-977f-4b04-8ef7-b7993228b3f8",
   "metadata": {},
   "outputs": [
    {
     "name": "stdout",
     "output_type": "stream",
     "text": [
      " Kelulusan: Belum Lulus \n"
     ]
    }
   ],
   "source": [
    "ilham.statuskelulusan()"
   ]
  },
  {
   "cell_type": "code",
   "execution_count": null,
   "id": "1056cc32-cdc5-422e-b58f-48ff9aeddcd9",
   "metadata": {},
   "outputs": [],
   "source": []
  }
 ],
 "metadata": {
  "kernelspec": {
   "display_name": "Python 3 (ipykernel)",
   "language": "python",
   "name": "python3"
  },
  "language_info": {
   "codemirror_mode": {
    "name": "ipython",
    "version": 3
   },
   "file_extension": ".py",
   "mimetype": "text/x-python",
   "name": "python",
   "nbconvert_exporter": "python",
   "pygments_lexer": "ipython3",
   "version": "3.12.7"
  }
 },
 "nbformat": 4,
 "nbformat_minor": 5
}
