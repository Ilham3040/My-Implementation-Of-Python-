{
 "cells": [
  {
   "cell_type": "code",
   "execution_count": 41,
   "id": "b20a5371-d76b-411e-aff1-739191b4512b",
   "metadata": {},
   "outputs": [],
   "source": [
    "import pandas as pd\n",
    "import numpy as np\n",
    "from collections import Counter\n",
    "import random"
   ]
  },
  {
   "cell_type": "code",
   "execution_count": 21,
   "id": "1f6597b2-5ab5-4754-a1f1-24811e835850",
   "metadata": {},
   "outputs": [],
   "source": [
    "df = pd.read_csv(\"Data Potensi Cleaned.csv\",delimiter=\";\")"
   ]
  },
  {
   "cell_type": "code",
   "execution_count": 108,
   "id": "87ecaf36-16e3-4020-a2ad-56097a588431",
   "metadata": {},
   "outputs": [
    {
     "data": {
      "text/html": [
       "<div>\n",
       "<style scoped>\n",
       "    .dataframe tbody tr th:only-of-type {\n",
       "        vertical-align: middle;\n",
       "    }\n",
       "\n",
       "    .dataframe tbody tr th {\n",
       "        vertical-align: top;\n",
       "    }\n",
       "\n",
       "    .dataframe thead th {\n",
       "        text-align: right;\n",
       "    }\n",
       "</style>\n",
       "<table border=\"1\" class=\"dataframe\">\n",
       "  <thead>\n",
       "    <tr style=\"text-align: right;\">\n",
       "      <th></th>\n",
       "      <th>Height (cm)</th>\n",
       "      <th>Weight (kg)</th>\n",
       "      <th>Vertical Jump (cm)</th>\n",
       "      <th>Potential</th>\n",
       "    </tr>\n",
       "  </thead>\n",
       "  <tbody>\n",
       "    <tr>\n",
       "      <th>0</th>\n",
       "      <td>172</td>\n",
       "      <td>63</td>\n",
       "      <td>45</td>\n",
       "      <td>Medium</td>\n",
       "    </tr>\n",
       "    <tr>\n",
       "      <th>1</th>\n",
       "      <td>180</td>\n",
       "      <td>75</td>\n",
       "      <td>48</td>\n",
       "      <td>High</td>\n",
       "    </tr>\n",
       "    <tr>\n",
       "      <th>2</th>\n",
       "      <td>165</td>\n",
       "      <td>55</td>\n",
       "      <td>40</td>\n",
       "      <td>Low</td>\n",
       "    </tr>\n",
       "    <tr>\n",
       "      <th>3</th>\n",
       "      <td>185</td>\n",
       "      <td>80</td>\n",
       "      <td>50</td>\n",
       "      <td>High</td>\n",
       "    </tr>\n",
       "    <tr>\n",
       "      <th>4</th>\n",
       "      <td>170</td>\n",
       "      <td>62</td>\n",
       "      <td>42</td>\n",
       "      <td>Medium</td>\n",
       "    </tr>\n",
       "    <tr>\n",
       "      <th>...</th>\n",
       "      <td>...</td>\n",
       "      <td>...</td>\n",
       "      <td>...</td>\n",
       "      <td>...</td>\n",
       "    </tr>\n",
       "    <tr>\n",
       "      <th>506</th>\n",
       "      <td>167</td>\n",
       "      <td>61</td>\n",
       "      <td>30</td>\n",
       "      <td>Low</td>\n",
       "    </tr>\n",
       "    <tr>\n",
       "      <th>507</th>\n",
       "      <td>162</td>\n",
       "      <td>57</td>\n",
       "      <td>31</td>\n",
       "      <td>Low</td>\n",
       "    </tr>\n",
       "    <tr>\n",
       "      <th>508</th>\n",
       "      <td>160</td>\n",
       "      <td>55</td>\n",
       "      <td>27</td>\n",
       "      <td>Low</td>\n",
       "    </tr>\n",
       "    <tr>\n",
       "      <th>509</th>\n",
       "      <td>164</td>\n",
       "      <td>58</td>\n",
       "      <td>29</td>\n",
       "      <td>Low</td>\n",
       "    </tr>\n",
       "    <tr>\n",
       "      <th>510</th>\n",
       "      <td>165</td>\n",
       "      <td>59</td>\n",
       "      <td>32</td>\n",
       "      <td>Low</td>\n",
       "    </tr>\n",
       "  </tbody>\n",
       "</table>\n",
       "<p>511 rows × 4 columns</p>\n",
       "</div>"
      ],
      "text/plain": [
       "     Height (cm)  Weight (kg)  Vertical Jump (cm) Potential\n",
       "0            172           63                  45    Medium\n",
       "1            180           75                  48      High\n",
       "2            165           55                  40       Low\n",
       "3            185           80                  50      High\n",
       "4            170           62                  42    Medium\n",
       "..           ...          ...                 ...       ...\n",
       "506          167           61                  30       Low\n",
       "507          162           57                  31       Low\n",
       "508          160           55                  27       Low\n",
       "509          164           58                  29       Low\n",
       "510          165           59                  32       Low\n",
       "\n",
       "[511 rows x 4 columns]"
      ]
     },
     "execution_count": 108,
     "metadata": {},
     "output_type": "execute_result"
    }
   ],
   "source": [
    "df"
   ]
  },
  {
   "cell_type": "code",
   "execution_count": 109,
   "id": "2f0d581c-e7b3-4543-b281-9e8bf2dc6b48",
   "metadata": {},
   "outputs": [],
   "source": [
    "X = df.drop(\"Potential\",axis=1)\n",
    "y = df[\"Potential\"]"
   ]
  },
  {
   "cell_type": "code",
   "execution_count": 136,
   "id": "bae1f0ca-386e-41ce-8f39-accfaefd3de9",
   "metadata": {},
   "outputs": [],
   "source": [
    "def train_test_split(X, y, test_size=0.2, random_state=None):\n",
    "    if random_state is not None:\n",
    "        random.seed(random_state)\n",
    "    \n",
    "    indices = list(range(len(X)))\n",
    "    random.shuffle(indices)\n",
    "\n",
    "    split_point = int(len(X) * (1 - test_size))\n",
    "\n",
    "    train_indices = indices[:split_point]\n",
    "    test_indices = indices[split_point:]\n",
    "\n",
    "    X_train = X.iloc[train_indices]\n",
    "    X_test = X.iloc[test_indices]\n",
    "    y_train = y.iloc[train_indices]\n",
    "    y_test = y.iloc[test_indices]\n",
    "\n",
    "    return X_train, X_test, y_train, y_test\n"
   ]
  },
  {
   "cell_type": "code",
   "execution_count": 137,
   "id": "739b3b4e-599f-4196-ac19-f7a37461e0cd",
   "metadata": {},
   "outputs": [],
   "source": [
    "def create_label_mapping(y):\n",
    "    unique_values = list(set(y))\n",
    "    label_map = {value: index for index, value in enumerate(unique_values)}\n",
    "    reverse_map = {index: value for value, index in label_map.items()}\n",
    "    y_numeric = y.map(label_map)\n",
    "    \n",
    "    return y_numeric, label_map, reverse_map"
   ]
  },
  {
   "cell_type": "code",
   "execution_count": 138,
   "id": "a4997d72-5f3b-4f59-abca-d9236d956ca6",
   "metadata": {},
   "outputs": [],
   "source": [
    "def minmax_scale(X):\n",
    "    min_vals = X.min()\n",
    "    max_vals = X.max()\n",
    "    X_scaled = (X - min_vals) / (max_vals - min_vals)\n",
    "    return X_scaled, min_vals, max_vals"
   ]
  },
  {
   "cell_type": "code",
   "execution_count": 139,
   "id": "baf42695-1a64-45bb-9190-a08c7fd515f2",
   "metadata": {},
   "outputs": [],
   "source": [
    "class KNN:\n",
    "    def __init__(self, k=3):\n",
    "        self.k = k\n",
    "        self.X_train = None\n",
    "        self.y_train = None\n",
    "    \n",
    "    def fit(self, X_train, y_train):\n",
    "        self.X_train = X_train\n",
    "        self.y_train = y_train\n",
    "    \n",
    "    def euclidean_distance(self, x1, X_train):\n",
    "        return np.sqrt(((X_train - x1) ** 2).sum(axis=1))\n",
    "    \n",
    "    def predict_single(self, x):\n",
    "        distances = self.euclidean_distance(x, self.X_train)\n",
    "        k_nearest_indices = distances.argsort()[:self.k]\n",
    "        k_nearest_labels = self.y_train.iloc[k_nearest_indices]\n",
    "        most_common = Counter(k_nearest_labels).most_common(1)\n",
    "        return most_common[0][0]\n",
    "    \n",
    "    def predict(self, X):\n",
    "        return X.apply(self.predict_single, axis=1)\n"
   ]
  },
  {
   "cell_type": "code",
   "execution_count": 140,
   "id": "2653ecc2-fd35-4f92-95be-f6527784dc2d",
   "metadata": {},
   "outputs": [],
   "source": [
    "X_transformed, min_vals, max_vals = minmax_scale(X)\n",
    "y_transformed, label_map, reverse_map = create_label_mapping(y)"
   ]
  },
  {
   "cell_type": "code",
   "execution_count": 168,
   "id": "90f51b98-ebfa-4136-a80d-80575bdf5dd1",
   "metadata": {},
   "outputs": [],
   "source": [
    "X_train,X_test,y_train,y_test = train_test_split(X,y_transformed,0.2,42)"
   ]
  },
  {
   "cell_type": "code",
   "execution_count": 171,
   "id": "aa9dd70a-269b-4e58-8040-d5f941b80e83",
   "metadata": {},
   "outputs": [
    {
     "name": "stdout",
     "output_type": "stream",
     "text": [
      "Accuracy: 92.23%\n"
     ]
    }
   ],
   "source": [
    "knn = KNN(k=11)\n",
    "knn.fit(X_train, y_train)\n",
    "\n",
    "predictions = knn.predict(X_test)\n",
    "\n",
    "correct_predictions = (predictions == y_test).sum()\n",
    "total_predictions = len(y_test)\n",
    "accuracy = correct_predictions / total_predictions * 100\n",
    "\n",
    "print(f\"Accuracy: {accuracy:.2f}%\")\n"
   ]
  },
  {
   "cell_type": "code",
   "execution_count": 175,
   "id": "b00eda00-f760-4fe7-9311-ee37af693db4",
   "metadata": {},
   "outputs": [
    {
     "data": {
      "image/png": "[encoded data removed]",
      "text/plain": [
       "<Figure size 640x480 with 1 Axes>"
      ]
     },
     "metadata": {},
     "output_type": "display_data"
    }
   ],
   "source": [
    "import matplotlib.pyplot as plt\n",
    "\n",
    "k_values = [3, 5, 7, 9, 11, 13]  # Specific k values\n",
    "accuracies = []\n",
    "\n",
    "# Calculate accuracy for each k\n",
    "for k in k_values:\n",
    "    knn = KNN(k=k)\n",
    "    knn.fit(X_train, y_train)\n",
    "    predictions = knn.predict(X_test)\n",
    "    \n",
    "    correct_predictions = (predictions == y_test).sum()\n",
    "    total_predictions = len(y_test)\n",
    "    accuracy = correct_predictions / total_predictions * 100\n",
    "    accuracies.append(accuracy)\n",
    "\n",
    "# Plot accuracy vs k values\n",
    "plt.plot(k_values, accuracies, marker='o')\n",
    "plt.xlabel('k (Number of Neighbors)')\n",
    "plt.ylabel('Accuracy (%)')\n",
    "plt.title('KNN Accuracy vs k')\n",
    "plt.grid(True)\n"
   ]
  },
  {
   "cell_type": "code",
   "execution_count": null,
   "id": "0abffc14-5882-4431-9cd1-63c26918d668",
   "metadata": {},
   "outputs": [],
   "source": []
  }
 ],
 "metadata": {
  "kernelspec": {
   "display_name": "Python 3 (ipykernel)",
   "language": "python",
   "name": "python3"
  },
  "language_info": {
   "codemirror_mode": {
    "name": "ipython",
    "version": 3
   },
   "file_extension": ".py",
   "mimetype": "text/x-python",
   "name": "python",
   "nbconvert_exporter": "python",
   "pygments_lexer": "ipython3",
   "version": "3.12.7"
  }
 },
 "nbformat": 4,
 "nbformat_minor": 5
}
