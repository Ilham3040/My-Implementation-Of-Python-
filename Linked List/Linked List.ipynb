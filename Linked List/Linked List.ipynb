{
 "cells": [
  {
   "cell_type": "code",
   "execution_count": null,
   "id": "a301f33a-a16f-41a2-8ff0-4b2e1272d657",
   "metadata": {},
   "outputs": [],
   "source": [
    "class Node:\n",
    "    # Pembuatan Titik\n",
    "    def __init__(self,data):\n",
    "        self.data = data\n",
    "        self.next = None"
   ]
  },
  {
   "cell_type": "code",
   "execution_count": null,
   "id": "1975e466-8054-4b38-a314-6a642625c1f5",
   "metadata": {},
   "outputs": [],
   "source": [
    "class LinkedList:\n",
    "    # Pembuatan awal dari Linked List\n",
    "    def __init__(self):\n",
    "        self.head = None\n",
    "\n",
    "\n",
    "    def append(self,data):\n",
    "        # Pembuatan wadah titik baru \n",
    "        newNode = Node(data)\n",
    "        \n",
    "        # Jika List nya masih kosong masukkan saja jadi anggota pertama \n",
    "        if not self.head:\n",
    "            self.head = newNode\n",
    "            return\n",
    "            \n",
    "        # Jika sudah terisi kita pergi keujung akhir list\n",
    "        current = self.head\n",
    "        while current.next:\n",
    "            current = current.next\n",
    "            \n",
    "        # Taruh titik diujung akhir dari list\n",
    "        current.next = newNode\n",
    "\n",
    "    def printall(self):\n",
    "        # Cek jika list kosong\n",
    "        if not self.head:\n",
    "            print(\"List ini kosong\");\n",
    "            return\n",
    "\n",
    "        current = self.head\n",
    "        # Cek apakah current ada atau tidak,jika ada maka kita print data didalamnya\n",
    "        while current:\n",
    "            print(current.data)\n",
    "            current = current.next\n",
    "        \n",
    "        "
   ]
  },
  {
   "cell_type": "code",
   "execution_count": null,
   "id": "ede83337-18d3-43fa-92fa-bb0f8d5ee1dd",
   "metadata": {},
   "outputs": [],
   "source": [
    "listsaya = LinkedList()"
   ]
  },
  {
   "cell_type": "code",
   "execution_count": null,
   "id": "abb40165-5a16-4ef0-a9a6-c9a987c3a05b",
   "metadata": {},
   "outputs": [],
   "source": [
    "listsaya.append(1)\n",
    "listsaya.append(2)\n",
    "listsaya.append(3)\n",
    "listsaya.append(4)\n",
    "listsaya.printall()"
   ]
  },
  {
   "cell_type": "code",
   "execution_count": null,
   "id": "693adcbc-d066-46c7-9839-e8b4ce2b8303",
   "metadata": {},
   "outputs": [],
   "source": []
  }
 ],
 "metadata": {
  "kernelspec": {
   "display_name": "Python 3 (ipykernel)",
   "language": "python",
   "name": "python3"
  },
  "language_info": {
   "codemirror_mode": {
    "name": "ipython",
    "version": 3
   },
   "file_extension": ".py",
   "mimetype": "text/x-python",
   "name": "python",
   "nbconvert_exporter": "python",
   "pygments_lexer": "ipython3",
   "version": "3.12.7"
  }
 },
 "nbformat": 4,
 "nbformat_minor": 5
}
