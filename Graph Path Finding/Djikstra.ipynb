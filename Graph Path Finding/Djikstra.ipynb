{
 "cells": [
  {
   "cell_type": "code",
   "execution_count": 10,
   "id": "ae0becd0-ba76-42b3-8722-c6998467bc68",
   "metadata": {},
   "outputs": [],
   "source": [
    "order = {\n",
    "    'Pak Handoko': 1,\n",
    "    'Pak Sunarno': 2,\n",
    "    'Pak Sutrisno': 3,\n",
    "    'Pak Jumali': 4,\n",
    "    'Pak Joko': 5,\n",
    "    'Pak Sumanto': 6,\n",
    "    'Pak Hadi': 7,\n",
    "    'Pak Sumono': 8,\n",
    "    'Pak Purwoadi': 9,\n",
    "    'Pak Maryono': 10,\n",
    "    'Pak Widodo': 11,\n",
    "    'Pak Wirawan': 13,\n",
    "    'Pak Basuki': 14\n",
    "}"
   ]
  },
  {
   "cell_type": "code",
   "execution_count": 11,
   "id": "b74c818f-d250-4aca-bb37-e972e3149047",
   "metadata": {},
   "outputs": [],
   "source": [
    "connection = {\n",
    "    \"Wirawan\" : [(\"Widodo\", 5),(\"Basuki\", 4)],\n",
    "    \"Basuki\" : [(\"Wirawan\", 4),(\"Widodo\",5),(\"Suwarno\",4)],\n",
    "    \"Suwarno\" : [(\"Basuki\", 4),(\"Sutrisno\",5),(\"Widodo\", 6)],\n",
    "    \"Widodo\" : [(\"Wirawan\", 5),(\"Basuki\",5),(\"Suwarno\",6),(\"Sutrisno\",5),(\"Sumanto\",4)],\n",
    "    \"Sutrisno\" : [(\"Suwarno\",5),(\"Widodo\",5),(\"Sumanto\",7),(\"Handoko\",5)],\n",
    "    \"Sumanto\" : [(\"Widodo\",4),(\"Sutrisno\",7),(\"Handoko\",7),(\"Jumali\",3)],\n",
    "    \"Handoko\" : [(\"Sutrisno\",5),(\"Sumanto\",7),(\"Jumali\",5),(\"Sunarno\",4),(\"Joko\",6)],\n",
    "    \"Jumali\" : [(\"Sumanto\",3),(\"Handoko\",5),(\"Maryono\",2)],\n",
    "    \"Maryono\" : [(\"Jumali\",2),(\"Hadi\",6)],\n",
    "    \"Sunarno\" : [(\"Handoko\",4),(\"Hadi\",6),(\"Sumono\",6)],\n",
    "    \"Joko\" : [(\"Handoko\",6),(\"Sumono\",3)],\n",
    "    \"Hadi\" : [(\"Maryono\",6),(\"Sunarno\",6),(\"Purwoadi\",4)],\n",
    "    \"Purwoadi\" : [(\"Hadi\",4),(\"Sumono\",4)],\n",
    "    \"Sumono\" : [(\"Joko\",3),(\"Sunarno\",6),(\"Purwoadi\",4)]\n",
    "}"
   ]
  },
  {
   "cell_type": "code",
   "execution_count": 14,
   "id": "81bf24ca-972b-4e6d-b49c-e641ab35342b",
   "metadata": {},
   "outputs": [],
   "source": [
    "def dijkstra(graph, start, destination):\n",
    "    distances = {node: float('inf') for node in graph}\n",
    "    distances[start] = 0\n",
    "    previous_nodes = {node: None for node in graph}\n",
    "    visited = set()\n",
    "\n",
    "    while len(visited) < len(graph):\n",
    "        current_node = None\n",
    "        current_distance = float('inf')\n",
    "\n",
    "        # Find the unvisited node with the smallest distance\n",
    "        for node in graph:\n",
    "            if node not in visited and distances[node] < current_distance:\n",
    "                current_distance = distances[node]\n",
    "                current_node = node\n",
    "\n",
    "        if current_node is None:\n",
    "            break\n",
    "\n",
    "        visited.add(current_node)\n",
    "\n",
    "        # Update distances to neighbors\n",
    "        for neighbor, weight in graph[current_node]:\n",
    "            if neighbor not in visited:\n",
    "                new_distance = current_distance + weight\n",
    "                if new_distance < distances[neighbor]:\n",
    "                    distances[neighbor] = new_distance\n",
    "                    previous_nodes[neighbor] = current_node\n",
    "\n",
    "    # Build the shortest path by backtracking from the destination\n",
    "    path = []\n",
    "    current_node = destination\n",
    "    while current_node is not None:\n",
    "        path.insert(0, current_node)\n",
    "        current_node = previous_nodes[current_node]\n",
    "\n",
    "    # If the start node isn't in the path, it means the destination is unreachable\n",
    "    if path[0] != start:\n",
    "        return None, float('inf')\n",
    "\n",
    "    return path, distances[destination]\n"
   ]
  },
  {
   "cell_type": "code",
   "execution_count": 15,
   "id": "328d2395-506a-47b6-9b44-37a1708fdb81",
   "metadata": {},
   "outputs": [
    {
     "name": "stdout",
     "output_type": "stream",
     "text": [
      "The shortest distance from Wirawan to Joko is: (['Wirawan', 'Widodo', 'Sutrisno', 'Handoko', 'Joko'], 21)\n",
      "The shortest distance from Wirawan to Maryono is: (['Wirawan', 'Widodo', 'Sumanto', 'Jumali', 'Maryono'], 14)\n"
     ]
    }
   ],
   "source": [
    "# Example: Find the shortest distance from \"Wirawan\" to \"Joko\"\n",
    "shortest_path_to_joko = dijkstra(connection, \"Wirawan\", \"Joko\")\n",
    "print(f\"The shortest distance from Wirawan to Joko is: {shortest_path_to_joko}\")\n",
    "\n",
    "# Example: Find the shortest distance from \"Wirawan\" to \"Maryono\"\n",
    "shortest_path_to_maryono = dijkstra(connection, \"Wira\", \"Maryono\")\n",
    "print(f\"The shortest distance from Wirawan to Maryono is: {shortest_path_to_maryono}\")"
   ]
  },
  {
   "cell_type": "code",
   "execution_count": null,
   "id": "3096af89-1cfe-4b6f-9bec-bd43a86127fd",
   "metadata": {},
   "outputs": [],
   "source": []
  },
  {
   "cell_type": "code",
   "execution_count": null,
   "id": "f5bd6281-8f9c-4c4c-8286-56968300cadb",
   "metadata": {},
   "outputs": [],
   "source": []
  }
 ],
 "metadata": {
  "kernelspec": {
   "display_name": "Python 3 (ipykernel)",
   "language": "python",
   "name": "python3"
  },
  "language_info": {
   "codemirror_mode": {
    "name": "ipython",
    "version": 3
   },
   "file_extension": ".py",
   "mimetype": "text/x-python",
   "name": "python",
   "nbconvert_exporter": "python",
   "pygments_lexer": "ipython3",
   "version": "3.12.7"
  }
 },
 "nbformat": 4,
 "nbformat_minor": 5
}
