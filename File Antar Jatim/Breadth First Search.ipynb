{
 "cells": [
  {
   "cell_type": "code",
   "execution_count": 12,
   "id": "223c7e6e-7166-4490-bee6-4813d2079340",
   "metadata": {},
   "outputs": [],
   "source": [
    "connection = {\n",
    "    'Basuki': ['Wirawan', 'Maryono', 'Sumanto'],\n",
    "    'Wirawan': ['Basuki', 'Widodo', 'Sumanto'],\n",
    "    'Maryono': ['Basuki', 'Sumanto', 'Purwadi'],\n",
    "    'Sumanto': ['Basuki', 'Wirawan', 'Maryono', 'Jumali', 'Handoko'],\n",
    "    'Jumali': ['Sumanto', 'Sutrisno', 'Handoko'],\n",
    "    'Sunarno': ['Purwadi', 'Sumono'],\n",
    "    'Purwadi': ['Maryono', 'Sunarno'],\n",
    "    'Handoko': ['Sumanto', 'Jumali', 'Joko'],\n",
    "    'Joko': ['Handoko', 'Sumono'],\n",
    "    'Sumono': ['Sunarno', 'Joko', 'Suwano'],\n",
    "    'Sutrisno': ['Jumali', 'Suwano'],\n",
    "    'Widodo': ['Wirawan'],\n",
    "    'Suwano': ['Sutrisno', 'Sumono']\n",
    "}"
   ]
  },
  {
   "cell_type": "code",
   "execution_count": 19,
   "id": "72f3a639-cb29-41e7-a7e2-253304c4a5ff",
   "metadata": {},
   "outputs": [],
   "source": [
    "def bfs(graph,start,end):\n",
    "    if start not in graph or end not in graph:\n",
    "        return None\n",
    "\n",
    "    queue = [(start,[start])]\n",
    "    visited = set()\n",
    "\n",
    "    while queue:\n",
    "        node,path = queue.pop(0)\n",
    "\n",
    "        if node in visited:\n",
    "            continue\n",
    "\n",
    "        visited.add(node)\n",
    "\n",
    "        if node == end:\n",
    "            return path\n",
    "\n",
    "        for neighbor in graph[node]:\n",
    "            if neighbor not in visited:\n",
    "                queue.append((neighbor, path + [neighbor]))\n",
    "\n",
    "    return None"
   ]
  },
  {
   "cell_type": "code",
   "execution_count": 20,
   "id": "3604474d-746b-459c-a3c7-394610844bcc",
   "metadata": {},
   "outputs": [],
   "source": [
    "path_from_basuki_to_suwano = bfs(connection,\"Basuki\",\"Suwano\")"
   ]
  },
  {
   "cell_type": "code",
   "execution_count": 21,
   "id": "8bcde56f-1422-4e9f-83ce-19773259072c",
   "metadata": {},
   "outputs": [
    {
     "data": {
      "text/plain": [
       "['Basuki', 'Sumanto', 'Jumali', 'Sutrisno', 'Suwano']"
      ]
     },
     "execution_count": 21,
     "metadata": {},
     "output_type": "execute_result"
    }
   ],
   "source": [
    "path_from_basuki_to_suwano"
   ]
  },
  {
   "cell_type": "code",
   "execution_count": null,
   "id": "d5589c07-f794-4779-b427-3e1d1c10afba",
   "metadata": {},
   "outputs": [],
   "source": [
    "https://chatgpt.com/c/6791e976-1138-8002-9bff-bd5cc86b1f1c"
   ]
  }
 ],
 "metadata": {
  "kernelspec": {
   "display_name": "Python 3 (ipykernel)",
   "language": "python",
   "name": "python3"
  },
  "language_info": {
   "codemirror_mode": {
    "name": "ipython",
    "version": 3
   },
   "file_extension": ".py",
   "mimetype": "text/x-python",
   "name": "python",
   "nbconvert_exporter": "python",
   "pygments_lexer": "ipython3",
   "version": "3.12.7"
  }
 },
 "nbformat": 4,
 "nbformat_minor": 5
}
